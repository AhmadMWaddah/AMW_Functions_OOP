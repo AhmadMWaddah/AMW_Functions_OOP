{
 "cells": [
  {
   "cell_type": "markdown",
   "metadata": {},
   "source": [
    "##### Imports Libraries."
   ]
  },
  {
   "cell_type": "code",
   "execution_count": null,
   "metadata": {},
   "outputs": [],
   "source": [
    "import numpy as np    # For Matrices Manipulations\n",
    "import pandas as pd    # For Data frames etc\n",
    "import xlrd    # For Excel Files\n",
    "import os    # For Changing to the Correct Directory\n",
    "from sklearn.impute import SimpleImputer    # For Handling the missing data.\n",
    "from sklearn.preprocessing import LabelEncoder    # to Deal with Categorical Label\n",
    "from sklearn.compose import ColumnTransformer    # to Deal with Categorical Label"
   ]
  },
  {
   "cell_type": "markdown",
   "metadata": {},
   "source": [
    "##### Character Finder Function."
   ]
  },
  {
   "cell_type": "code",
   "execution_count": null,
   "metadata": {},
   "outputs": [],
   "source": [
    "# -------------------- #\n",
    "class CharacterFind:\n",
    "    def __init__(self, func):\n",
    "        self.func = func\n",
    "\n",
    "    @property\n",
    "    def __call__(self):\n",
    "        return self.func()\n",
    "\n",
    "\n",
    "@CharacterFind\n",
    "def character_find(target_string, icon_symbol):\n",
    "    \"\"\"\n",
    "    Custom Function Takes 2 Parameters String and Symbol and Find Where This Symbol and How Many in Target.\n",
    "\n",
    "    :param target_string: to loop inside and look for symbol\n",
    "    :param icon_symbol: will look for it inside that target\n",
    "    :return: count how many times symbol found in the target.\n",
    "\n",
    "    \"\"\"\n",
    "    # Start Counting Variable.\n",
    "    count_starter = 0\n",
    "    # List To Append Symbol Each Time Found In String.\n",
    "    target_list = []\n",
    "    # Looping In String For Symbol.\n",
    "    for character in target_string:\n",
    "        if character.lower() == icon_symbol.lower():\n",
    "            # Append Symbol To List To Count It.\n",
    "            target_list.append(target_string.find(character, count_starter))\n",
    "        # Add One For Starter To Skip Previous Character.\n",
    "        count_starter += 1\n",
    "    # Printing The List With Symbol Positions On String (Target).\n",
    "    print(target_list)\n"
   ]
  },
  {
   "cell_type": "markdown",
   "metadata": {},
   "source": [
    "##### Custom Splitter Function."
   ]
  },
  {
   "cell_type": "code",
   "execution_count": null,
   "metadata": {},
   "outputs": [],
   "source": [
    "# -------------------- #\n",
    "class CustomSplit:\n",
    "    def __init__(self, split_func):\n",
    "        self.split_func = split_func\n",
    "\n",
    "    @property\n",
    "    def __call__(self):\n",
    "        return self.split_func()\n",
    "\n",
    "\n",
    "@CustomSplit\n",
    "def custom_split(target_string):\n",
    "    \"\"\"\n",
    "    Function Take One Parameter a an iterable object and loop and split it for parts and append it to a list.\n",
    "    :param target_string: iterable object\n",
    "    :return: List with splited part of iterable.\n",
    "\n",
    "    \"\"\"\n",
    "    # List To Append All Splited Words.\n",
    "    splited_words_list = []\n",
    "    # Variable To Save Words.\n",
    "    helper_variable = ''\n",
    "    # Looping Inside String.\n",
    "    for each_word in target_string:\n",
    "        # checking the next character is space or not.\n",
    "        if each_word == ' ':\n",
    "            # If Yes. Append Word To List.\n",
    "            splited_words_list.append(helper_variable)\n",
    "            # Then Reset Temporary Variable\n",
    "            helper_variable = ''\n",
    "        else:\n",
    "            # If Not Then Fill Variable With Word.\n",
    "            helper_variable += each_word\n",
    "\n",
    "    # Last Word Will Be Out Of Loop Then Go To List Right Away.\n",
    "    if helper_variable:\n",
    "        splited_words_list.append(helper_variable)\n",
    "\n",
    "    print(splited_words_list)"
   ]
  },
  {
   "cell_type": "markdown",
   "metadata": {},
   "source": [
    "##### Files Renamer Function."
   ]
  },
  {
   "cell_type": "code",
   "execution_count": null,
   "metadata": {},
   "outputs": [],
   "source": [
    "# -------------------- #\n",
    "class RenameFiles:\n",
    "    def __init__(self, rename_func):\n",
    "        self.rename_func = rename_func\n",
    "\n",
    "    @property\n",
    "    def __call__(self):\n",
    "        return self.rename_func()\n",
    "\n",
    "@RenameFiles\n",
    "def rename_files(files_path, wanted_name, needed_extension):\n",
    "    \"\"\"\n",
    "    Function Takes 3 Parameters Files Directory and Name for files we need it to be and extension of the files.\n",
    "\n",
    "    :param files_path: Folder that files inside.\n",
    "    :param wanted_name: the name we need to rename the files with.\n",
    "    :param needed_extension: the new extension for the files we need to rename it.\n",
    "    :return: List with the new named Files.\n",
    "\n",
    "    \"\"\"\n",
    "    # List For All Files In Directory.\n",
    "    directory_files = []\n",
    "    # New List After Renaming Files.\n",
    "    renamed_files = []\n",
    "    # Numerical Range To Give To Files.\n",
    "    numbering_list = range(0, 6)\n",
    "    # Looping Inside Directory.\n",
    "    for filename in os.listdir(files_path):\n",
    "        # Adding Each File As Member In Directory Files List.\n",
    "        directory_files.append(filename)\n",
    "    print(directory_files)\n",
    "\n",
    "    # Looping For Two Lists, (Directory Files List and Numerical List).\n",
    "    for each_file, each_number in zip(directory_files, numbering_list):\n",
    "        # Creating Pattern For The New Name.\n",
    "        new_name = f'{wanted_name} {each_number}.{needed_extension}'\n",
    "        # Adding New Names To New List (Renamed List).\n",
    "        renamed_files.append(new_name)\n",
    "    # Printing List With New Names.\n",
    "    print(renamed_files)"
   ]
  },
  {
   "cell_type": "markdown",
   "metadata": {},
   "source": [
    "##### Statistics Functions.\n",
    "##### Mean Squared Error Function."
   ]
  },
  {
   "cell_type": "code",
   "execution_count": null,
   "metadata": {},
   "outputs": [],
   "source": [
    "class MeanSquareError:\n",
    "    def __init__(self, MSE_func):\n",
    "        self.MSE_func = MSE_func\n",
    "\n",
    "    @property\n",
    "    def __call__(self):\n",
    "        return self.MSE_func()\n",
    "\n",
    "@MeanSquareError\n",
    "# Mean Squared Error.\n",
    "def mean_square_error(actual_data, predicted_data):\n",
    "    \"\"\"\n",
    "    Function Takes 2 Parameters lists of data, making counter and add to it and zipping lists.\n",
    "    :param actual_data:\n",
    "    :param predicted_data:\n",
    "    :return: Mean Squared Error Of Both Data Actual and Predicted.\n",
    "\n",
    "    \"\"\"\n",
    "    # Starter Counter.\n",
    "    counter = 0\n",
    "    # Combining BOth List With Zipping Function.\n",
    "    data_combined = zip(actual_data, predicted_data)\n",
    "    # Loop For Each cell in both data.\n",
    "    for (each_actual, each_predicted) in data_combined:\n",
    "        # Adding Results To Starter Counter.\n",
    "        counter += (each_actual - each_predicted) ** 2\n",
    "    return counter / len(actual_data)\n"
   ]
  },
  {
   "cell_type": "markdown",
   "metadata": {},
   "source": [
    "##### Data Mean Function."
   ]
  },
  {
   "cell_type": "code",
   "execution_count": null,
   "metadata": {},
   "outputs": [],
   "source": [
    "class MeanData:\n",
    "    def __init__(self, mean_func):\n",
    "        self.mean_func = mean_func\n",
    "\n",
    "    @property\n",
    "    def __call__(self):\n",
    "        return self.mean_func()\n",
    "\n",
    "@MeanData\n",
    "def data_mean(data_values):\n",
    "    \"\"\"\n",
    "    Getting The Mean Number For Data.\n",
    "    :param data_values: Set Of Data\n",
    "    :return: Mean Of Data Values.\n",
    "    \"\"\"\n",
    "    return sum(data_values) / len(data_values)"
   ]
  },
  {
   "cell_type": "markdown",
   "metadata": {},
   "source": [
    "##### Data Variance Function."
   ]
  },
  {
   "cell_type": "code",
   "execution_count": null,
   "metadata": {},
   "outputs": [],
   "source": [
    "class VarianceData:\n",
    "    def __init__(self, variance_func):\n",
    "        self.variance_func = variance_func\n",
    "\n",
    "    @property\n",
    "    def __call__(self):\n",
    "        return self.variance_func()\n",
    "\n",
    "@VarianceData\n",
    "def data_variance(data_values, mean_of_data):\n",
    "    \"\"\"\n",
    "    Getting The Variance Number For Data.\n",
    "    :param data_values: Set Of Data\n",
    "    :param mean_of_data: Mean Of Data From Previous Function.\n",
    "    :return: Variance Of Data.\n",
    "    \"\"\"\n",
    "    starter_counter = 0\n",
    "    for data_cells in data_values:\n",
    "        starter_counter += (data_cells - mean_of_data) ** 2\n",
    "    return starter_counter / len(data_values)"
   ]
  },
  {
   "cell_type": "markdown",
   "metadata": {},
   "source": [
    "##### Data CoVariancec Function."
   ]
  },
  {
   "cell_type": "code",
   "execution_count": null,
   "metadata": {},
   "outputs": [],
   "source": [
    "class CoVarianceData:\n",
    "    def __init__(self, covariance_func):\n",
    "        self.covariance_func = covariance_func\n",
    "\n",
    "    @property\n",
    "    def __call__(self):\n",
    "        return self.covariance_func()\n",
    "\n",
    "@CoVarianceData\n",
    "def data_covariance(features_values, labels_values, features_mean, labels_mean):\n",
    "    \"\"\"\n",
    "    It measures the degree of change in the variables, i.e. when one variable changes, will there be the same/a similar change in the other variable.\n",
    "    :param features_values: (X) Weights and Features Of Data\n",
    "    :param labels_values: (Y) Predictions and Labels Of Data\n",
    "    :param features_mean: Measured Mean Of Features For Data\n",
    "    :param labels_mean: Measured Mean Of Labels For Data\n",
    "    :return: Measure of relationship between 2 variables.\n",
    "\n",
    "    \"\"\"\n",
    "    # Labels and Features Added and Multiplied.\n",
    "    features_labels_sum_multiply = 0\n",
    "    # Combine Both Features and Labels In One Object.\n",
    "    feature_label_combined = zip(features_values, labels_values)\n",
    "    for (features_values, labels_values) in feature_label_combined:\n",
    "        features_labels_sum_multiply += ((features_values - features_mean) * (labels_values - labels_mean))\n",
    "    return features_labels_sum_multiply / len(features_values)"
   ]
  },
  {
   "cell_type": "markdown",
   "metadata": {},
   "source": [
    "##### Data Coefficient Function."
   ]
  },
  {
   "cell_type": "code",
   "execution_count": null,
   "metadata": {},
   "outputs": [],
   "source": [
    "class CoEfficientData:\n",
    "    def __init__(self, coefficient_func):\n",
    "        self.coefficient_func = coefficient_func\n",
    "\n",
    "    @property\n",
    "    def __call__(self):\n",
    "        return self.coefficient_func()\n",
    "\n",
    "@CoEfficientData\n",
    "def data_coefficient(features_values, labels_values):\n",
    "    \"\"\"\n",
    "    Measure of correlation overcomes the scale dependency of covariance by standardizing the measures.\n",
    "    :param features_values: (X) Weights and Features Of Data\n",
    "    :param labels_values: (Y) Predictions and Labels Of Data\n",
    "    :return: Number Between 0 and 1.\n",
    "\n",
    "    \"\"\"\n",
    "    features_mean = data_mean(features_values)\n",
    "    labels_values = data_mean(labels_values)\n",
    "    features_variance = data_variance(features_values, features_mean)\n",
    "    labels_variance = data_variance(labels_values, labels_values)\n",
    "    print(features_variance)\n",
    "    beta_one = data_covariance(features_values, labels_values, features_mean, labels_values) / features_variance\n",
    "    beta_zero = labels_values - (beta_one * features_mean)\n",
    "    return beta_one, beta_zero\n"
   ]
  },
  {
   "cell_type": "markdown",
   "metadata": {},
   "source": [
    "##### Simple Linear Regression Function."
   ]
  },
  {
   "cell_type": "code",
   "execution_count": null,
   "metadata": {},
   "outputs": [],
   "source": [
    "class SimpleLinearRegression:\n",
    "    def __init__(self, spl_func):\n",
    "        self.spl_func = spl_func\n",
    "\n",
    "    @property\n",
    "    def __call__(self):\n",
    "        return self.spl_func()\n",
    "\n",
    "@SimpleLinearRegression\n",
    "def simple_linear_regression(features_train, labels_train, features_test):\n",
    "    \"\"\"\n",
    "    Using a linear regression model will allow you to discover whether a relationship between variables exists at all.\n",
    "    :param features_train:\n",
    "    :param labels_train:\n",
    "    :param features_test:\n",
    "    :return:\n",
    "    \"\"\"\n",
    "    beta_one_train, beta_zero_train = data_coefficient(features_train, labels_train)\n",
    "    predicted_data = beta_one_train * features_test + beta_zero_train\n",
    "    return predicted_data\n"
   ]
  },
  {
   "cell_type": "markdown",
   "metadata": {},
   "source": [
    "##### Evaluate Model Function."
   ]
  },
  {
   "cell_type": "code",
   "execution_count": null,
   "metadata": {},
   "outputs": [],
   "source": [
    "class EvaluateModel:\n",
    "    def __init__(self, eval_func):\n",
    "        self.eval_func = eval_func\n",
    "\n",
    "    @property\n",
    "    def __call__(self):\n",
    "        return self.eval_func()\n",
    "\n",
    "@EvaluateModel\n",
    "def evaluate_model(features_train, labels_train, features_test, labels_test):\n",
    "    \"\"\"\n",
    "    Evaluate Model anc Compare Train Data With Test Data.\n",
    "    :param features_train:\n",
    "    :param labels_train:\n",
    "    :param features_test:\n",
    "    :param labels_test:\n",
    "    :return:\n",
    "    \"\"\"\n",
    "    prediction_data = simple_linear_regression(features_train, labels_train, features_test)\n",
    "    return mean_square_error(prediction_data, labels_test)"
   ]
  },
  {
   "cell_type": "markdown",
   "metadata": {},
   "source": [
    "#### Transformer Functions."
   ]
  },
  {
   "cell_type": "code",
   "execution_count": null,
   "metadata": {},
   "outputs": [],
   "source": [
    "class Transformer:\n",
    "    # Attributes\n",
    "    def __init__(self, standarad_scaler, min_Max_Scaler):\n",
    "        self.standarad_scaler = standarad_scaler\n",
    "        self.min_Max_Scaler = min_Max_Scaler\n",
    "    \n",
    "    @property\n",
    "    def __call__(self):\n",
    "        self.min_Max_Scaler()\n",
    "        self.standarad_scaler()\n",
    "\n",
    "@Transformer\n",
    "def standaradscaler(feature):\n",
    "    Mean_feature = mean(feature)\n",
    "    std_feature = std(feature)\n",
    "    scaled_feature = (feature - Mean_feature) / std_feature\n",
    "    return scaled_feature\n",
    "\n",
    "\n",
    "@Transformer\n",
    "def minMaxScaler(feature):\n",
    "    min_max_scaler = (feature - (np.min(feature))) / ((np.max(feature)) - (np.min(feature)))\n",
    "    return min_max_scaler"
   ]
  }
 ],
 "metadata": {
  "kernelspec": {
   "display_name": "Python 3",
   "language": "python",
   "name": "python3"
  },
  "language_info": {
   "codemirror_mode": {
    "name": "ipython",
    "version": 3
   },
   "file_extension": ".py",
   "mimetype": "text/x-python",
   "name": "python",
   "nbconvert_exporter": "python",
   "pygments_lexer": "ipython3",
   "version": "3.6.9"
  }
 },
 "nbformat": 4,
 "nbformat_minor": 4
}
